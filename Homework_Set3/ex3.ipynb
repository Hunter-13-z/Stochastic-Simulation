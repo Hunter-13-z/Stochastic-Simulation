{
 "cells": [
  {
   "cell_type": "code",
   "execution_count": 27,
   "metadata": {},
   "outputs": [],
   "source": [
    "import numpy as np\n",
    "from scipy.stats import poisson"
   ]
  },
  {
   "cell_type": "code",
   "execution_count": 28,
   "metadata": {},
   "outputs": [],
   "source": [
    "M = 10000  # Number of independent samples\n",
    "threshold = 20  "
   ]
  },
  {
   "cell_type": "markdown",
   "metadata": {},
   "source": [
    "###  (i)"
   ]
  },
  {
   "cell_type": "code",
   "execution_count": 29,
   "metadata": {},
   "outputs": [],
   "source": [
    "def crude_monte_carlo(M):\n",
    "    U_samples = np.random.uniform(0, 1, M)\n",
    "    mu_values = 15 / (0.5 + U_samples)\n",
    "    N_samples = np.random.poisson(mu_values)\n",
    "    crude_probs = N_samples >= threshold\n",
    "    return np.mean(crude_probs), np.var(crude_probs) / M\n"
   ]
  },
  {
   "cell_type": "code",
   "execution_count": 30,
   "metadata": {},
   "outputs": [
    {
     "name": "stdout",
     "output_type": "stream",
     "text": [
      "Crude Monte Carlo:\n",
      "Estimate: 0.289700\n"
     ]
    }
   ],
   "source": [
    "p_crude, var_crude = crude_monte_carlo(M)\n",
    "print(\"Crude Monte Carlo:\")\n",
    "print(f\"Estimate: {p_crude:.6f}\")"
   ]
  },
  {
   "cell_type": "markdown",
   "metadata": {},
   "source": [
    "### (ii)"
   ]
  },
  {
   "cell_type": "code",
   "execution_count": 31,
   "metadata": {},
   "outputs": [],
   "source": [
    "def conditional_probability(u):\n",
    "    mu = 15 / (0.5 + u)\n",
    "    return 1 - poisson.cdf(19, mu)  # P(N >= 20 | U)"
   ]
  },
  {
   "cell_type": "code",
   "execution_count": 32,
   "metadata": {},
   "outputs": [],
   "source": [
    "def conditional_with_control_variate(M):\n",
    "    U_samples = np.random.uniform(0, 1, M)\n",
    "    # Compute conditional probabilities and control variates\n",
    "    conditional_probs = np.array([conditional_probability(u) for u in U_samples])\n",
    "    control_variates = 15 / (0.5 + U_samples)  # Mean of the Poisson as the control variate\n",
    "\n",
    "    # Control variate adjustment\n",
    "    control_mean = np.mean(control_variates)  # Empirical mean of the control variate\n",
    "    control_var = np.var(control_variates)  # Variance of the control variate\n",
    "    covariance = np.cov(conditional_probs, control_variates)[0, 1]  # Covariance\n",
    "    beta = covariance / control_var  # Optimal beta\n",
    "\n",
    "    # Adjusted estimator\n",
    "    adjusted_probs = conditional_probs - beta * (control_variates - control_mean)\n",
    "    return np.mean(adjusted_probs), np.var(adjusted_probs) / M"
   ]
  },
  {
   "cell_type": "code",
   "execution_count": 33,
   "metadata": {},
   "outputs": [
    {
     "name": "stdout",
     "output_type": "stream",
     "text": [
      "\n",
      "Conditional Expectation:\n",
      "Estimate: 0.288039\n"
     ]
    }
   ],
   "source": [
    "p_conditional, var_conditional = conditional_with_control_variate(M)\n",
    "print(\"\\nConditional Expectation:\")\n",
    "print(f\"Estimate: {p_conditional:.6f}\")"
   ]
  },
  {
   "cell_type": "markdown",
   "metadata": {},
   "source": [
    "### (iii)"
   ]
  },
  {
   "cell_type": "code",
   "execution_count": 34,
   "metadata": {},
   "outputs": [],
   "source": [
    "def antithetic_variables(M):\n",
    "    U_samples = np.random.uniform(0, 1, M // 2)  # Half the samples (pairs are combined)\n",
    "    U_antithetic = 1 - U_samples\n",
    "    probs_original = np.array([conditional_probability(u) for u in U_samples])\n",
    "    probs_antithetic = np.array([conditional_probability(u) for u in U_antithetic])\n",
    "    combined_probs = (probs_original + probs_antithetic) / 2\n",
    "    return np.mean(combined_probs), np.var(combined_probs) / (M // 2)\n"
   ]
  },
  {
   "cell_type": "code",
   "execution_count": 35,
   "metadata": {},
   "outputs": [
    {
     "name": "stdout",
     "output_type": "stream",
     "text": [
      "\n",
      "Antithetic Variables:\n",
      "Estimate: 0.286782\n"
     ]
    }
   ],
   "source": [
    "p_antithetic, var_antithetic = antithetic_variables(M)\n",
    "print(\"\\nAntithetic Variables:\")\n",
    "print(f\"Estimate: {p_antithetic:.6f}\")"
   ]
  },
  {
   "cell_type": "code",
   "execution_count": 36,
   "metadata": {},
   "outputs": [
    {
     "name": "stdout",
     "output_type": "stream",
     "text": [
      "Crude Monte Carlo:\n",
      "Estimate: 0.289700, Variance: 2.057739e-05\n",
      "\n",
      "Conditional Expectation:\n",
      "Estimate: 0.288039, Variance: 3.241113e-07\n",
      "\n",
      "Antithetic Variables:\n",
      "Estimate: 0.286782, Variance: 3.233519e-06\n"
     ]
    }
   ],
   "source": [
    "print(\"Crude Monte Carlo:\")\n",
    "print(f\"Estimate: {p_crude:.6f}, Variance: {var_crude:.6e}\")\n",
    "\n",
    "print(\"\\nConditional Expectation:\")\n",
    "print(f\"Estimate: {p_conditional:.6f}, Variance: {var_conditional:.6e}\")\n",
    "\n",
    "print(\"\\nAntithetic Variables:\")\n",
    "print(f\"Estimate: {p_antithetic:.6f}, Variance: {var_antithetic:.6e}\")\n",
    "\n"
   ]
  },
  {
   "cell_type": "code",
   "execution_count": null,
   "metadata": {},
   "outputs": [],
   "source": []
  }
 ],
 "metadata": {
  "kernelspec": {
   "display_name": "Python 3",
   "language": "python",
   "name": "python3"
  },
  "language_info": {
   "codemirror_mode": {
    "name": "ipython",
    "version": 3
   },
   "file_extension": ".py",
   "mimetype": "text/x-python",
   "name": "python",
   "nbconvert_exporter": "python",
   "pygments_lexer": "ipython3",
   "version": "3.9.6"
  }
 },
 "nbformat": 4,
 "nbformat_minor": 2
}
