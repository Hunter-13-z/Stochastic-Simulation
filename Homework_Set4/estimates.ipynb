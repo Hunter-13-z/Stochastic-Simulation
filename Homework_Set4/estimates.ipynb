{
 "cells": [
  {
   "cell_type": "markdown",
   "metadata": {},
   "source": [
    "### EX 1"
   ]
  },
  {
   "cell_type": "markdown",
   "metadata": {},
   "source": [
    "##### a:"
   ]
  },
  {
   "cell_type": "code",
   "execution_count": 15,
   "metadata": {},
   "outputs": [],
   "source": [
    "import numpy as np"
   ]
  },
  {
   "cell_type": "code",
   "execution_count": 16,
   "metadata": {},
   "outputs": [
    {
     "data": {
      "text/plain": [
       "np.float64(0.7966556485263787)"
      ]
     },
     "execution_count": 16,
     "metadata": {},
     "output_type": "execute_result"
    }
   ],
   "source": [
    "lambda_value = 0.5\n",
    "h = 0.001  \n",
    "n_samples = 100000  \n",
    "\n",
    "def f(x):\n",
    "    return 2 ** x\n",
    "\n",
    "weibull_plus_half = np.random.weibull(2, n_samples) * (lambda_value + h / 2)\n",
    "weibull_minus_half = np.random.weibull(2, n_samples) * (lambda_value - h / 2)\n",
    "\n",
    "Z_plus_half = f(weibull_plus_half)\n",
    "Z_minus_half = f(weibull_minus_half)\n",
    "\n",
    "E_Z_plus_half = np.mean(Z_plus_half)\n",
    "E_Z_minus_half = np.mean(Z_minus_half)\n",
    "\n",
    "D_theta = (E_Z_plus_half - E_Z_minus_half) / h\n",
    "\n",
    "D_theta"
   ]
  },
  {
   "cell_type": "code",
   "execution_count": 17,
   "metadata": {},
   "outputs": [
    {
     "data": {
      "text/plain": [
       "np.float64(0.9223795697046455)"
      ]
     },
     "execution_count": 17,
     "metadata": {},
     "output_type": "execute_result"
    }
   ],
   "source": [
    "uniform_samples = np.random.uniform(size=n_samples)\n",
    "\n",
    "\n",
    "weibull_plus_half = (lambda_value + h / 2) * (-np.log(1 - uniform_samples)) ** (1 / 2)\n",
    "weibull_minus_half = (lambda_value - h / 2) * (-np.log(1 - uniform_samples)) ** (1 / 2)\n",
    "\n",
    "Z_plus_half = f(weibull_plus_half)\n",
    "Z_minus_half = f(weibull_minus_half)\n",
    "\n",
    "D_theta_common_random = (np.mean(Z_plus_half) - np.mean(Z_minus_half)) / h\n",
    "\n",
    "D_theta_common_random"
   ]
  },
  {
   "cell_type": "code",
   "execution_count": 18,
   "metadata": {},
   "outputs": [
    {
     "data": {
      "text/plain": [
       "np.float64(0.9188331479790689)"
      ]
     },
     "execution_count": 18,
     "metadata": {},
     "output_type": "execute_result"
    }
   ],
   "source": [
    "lambda_value = 0.5\n",
    "n_samples = 100000  \n",
    "\n",
    "uniform_samples = np.random.uniform(size=n_samples)\n",
    "\n",
    "\n",
    "weibull_samples = lambda_value * (-np.log(1 - uniform_samples)) ** (1 / 2)\n",
    "\n",
    "\n",
    "dX_dlambda = (-np.log(1 - uniform_samples)) ** (1 / 2)\n",
    "\n",
    "\n",
    "Z = f(weibull_samples)\n",
    "\n",
    "\n",
    "derivative_Z_lambda = (np.log(2) * Z) * dX_dlambda\n",
    "\n",
    "\n",
    "IPA_estimate = np.mean(derivative_Z_lambda)\n",
    "\n",
    "IPA_estimate\n"
   ]
  },
  {
   "cell_type": "code",
   "execution_count": 20,
   "metadata": {},
   "outputs": [
    {
     "data": {
      "text/plain": [
       "np.float64(5.109859531518654)"
      ]
     },
     "execution_count": 20,
     "metadata": {},
     "output_type": "execute_result"
    }
   ],
   "source": [
    "lambda_value = 0.5\n",
    "n_samples = 500000 \n",
    "\n",
    "\n",
    "weibull_samples = np.random.weibull(2, n_samples) * lambda_value\n",
    "\n",
    "Z = f(weibull_samples)\n",
    "\n",
    "score_function = (2 / lambda_value) - (2 * lambda_value * weibull_samples**2)\n",
    "\n",
    "LRM_products = Z * score_function\n",
    "\n",
    "LRM_estimate_final = np.mean(LRM_products)\n",
    "\n",
    "LRM_estimate_final\n"
   ]
  },
  {
   "cell_type": "code",
   "execution_count": 23,
   "metadata": {},
   "outputs": [
    {
     "data": {
      "text/plain": [
       "(np.float64(1.02364047599524), np.float64(0.20768058308780993))"
      ]
     },
     "execution_count": 23,
     "metadata": {},
     "output_type": "execute_result"
    }
   ],
   "source": [
    "n_replications = 100\n",
    "\n",
    "estimates = []\n",
    "\n",
    "for _ in range(n_replications):\n",
    "    weibull_plus_half = np.random.weibull(2, n_samples) * (lambda_value + h / 2)\n",
    "    weibull_minus_half = np.random.weibull(2, n_samples) * (lambda_value - h / 2)\n",
    "\n",
    "    Z_plus_half = f(weibull_plus_half)\n",
    "    Z_minus_half = f(weibull_minus_half)\n",
    "\n",
    "    E_Z_plus_half = np.mean(Z_plus_half)\n",
    "    E_Z_minus_half = np.mean(Z_minus_half)\n",
    "\n",
    "    D_theta_replication = (E_Z_plus_half - E_Z_minus_half) / h\n",
    "\n",
    "    estimates.append(D_theta_replication)\n",
    "\n",
    "estimates = np.array(estimates)\n",
    "mean_estimate = np.mean(estimates)\n",
    "mse_sample = np.mean((estimates - mean_estimate) ** 2)\n",
    "mean_estimate, mse_sample\n"
   ]
  },
  {
   "cell_type": "code",
   "execution_count": 24,
   "metadata": {},
   "outputs": [
    {
     "data": {
      "text/plain": [
       "(np.float64(0.9209586725060226), np.float64(8.595274699104405e-07))"
      ]
     },
     "execution_count": 24,
     "metadata": {},
     "output_type": "execute_result"
    }
   ],
   "source": [
    "n_replications = 100\n",
    "estimates_common_random = []\n",
    "\n",
    "for _ in range(n_replications):\n",
    "    uniform_samples = np.random.uniform(size=n_samples)\n",
    "\n",
    "    weibull_plus_half = (lambda_value + h / 2) * (-np.log(1 - uniform_samples)) ** (1 / 2)\n",
    "    weibull_minus_half = (lambda_value - h / 2) * (-np.log(1 - uniform_samples)) ** (1 / 2)\n",
    "\n",
    "    Z_plus_half = f(weibull_plus_half)\n",
    "    Z_minus_half = f(weibull_minus_half)\n",
    "\n",
    "    D_theta_common_random_replication = (np.mean(Z_plus_half) - np.mean(Z_minus_half)) / h\n",
    "\n",
    "    estimates_common_random.append(D_theta_common_random_replication)\n",
    "\n",
    "estimates_common_random = np.array(estimates_common_random)\n",
    "mean_estimate_common_random = np.mean(estimates_common_random)\n",
    "mse_sample_common_random = np.mean((estimates_common_random - mean_estimate_common_random) ** 2)\n",
    "mean_estimate_common_random, mse_sample_common_random\n"
   ]
  },
  {
   "cell_type": "code",
   "execution_count": 25,
   "metadata": {},
   "outputs": [
    {
     "data": {
      "text/plain": [
       "(np.float64(0.9211782626874567), np.float64(7.261172725435709e-07))"
      ]
     },
     "execution_count": 25,
     "metadata": {},
     "output_type": "execute_result"
    }
   ],
   "source": [
    "n_replications = 100\n",
    "estimates_IPA = []\n",
    "\n",
    "for _ in range(n_replications):\n",
    "    uniform_samples = np.random.uniform(size=n_samples)\n",
    "    weibull_samples = lambda_value * (-np.log(1 - uniform_samples)) ** (1 / 2)\n",
    "    dX_dlambda = (-np.log(1 - uniform_samples)) ** (1 / 2)\n",
    "    Z = f(weibull_samples)\n",
    "    derivative_Z_lambda = (np.log(2) * Z) * dX_dlambda\n",
    "    IPA_estimate_replication = np.mean(derivative_Z_lambda)\n",
    "    estimates_IPA.append(IPA_estimate_replication)\n",
    "\n",
    "estimates_IPA = np.array(estimates_IPA)\n",
    "mean_estimate_IPA = np.mean(estimates_IPA)\n",
    "mse_sample_IPA = np.mean((estimates_IPA - mean_estimate_IPA) ** 2)\n",
    "\n",
    "mean_estimate_IPA, mse_sample_IPA\n"
   ]
  },
  {
   "cell_type": "code",
   "execution_count": 26,
   "metadata": {},
   "outputs": [
    {
     "data": {
      "text/plain": [
       "(np.float64(5.109100483224172), np.float64(4.094346649343991e-07))"
      ]
     },
     "execution_count": 26,
     "metadata": {},
     "output_type": "execute_result"
    }
   ],
   "source": [
    "n_replications = 100\n",
    "estimates_LRM = []\n",
    "\n",
    "for _ in range(n_replications):\n",
    "    weibull_samples = np.random.weibull(2, n_samples) * lambda_value\n",
    "    Z = f(weibull_samples)\n",
    "    score_function = (2 / lambda_value) - (2 * lambda_value * weibull_samples**2)\n",
    "    LRM_products = Z * score_function\n",
    "    LRM_estimate_replication = np.mean(LRM_products)\n",
    "    estimates_LRM.append(LRM_estimate_replication)\n",
    "\n",
    "estimates_LRM = np.array(estimates_LRM)\n",
    "mean_estimate_LRM = np.mean(estimates_LRM)\n",
    "\n",
    "mse_sample_LRM = np.mean((estimates_LRM - mean_estimate_LRM) ** 2)\n",
    "\n",
    "mean_estimate_LRM, mse_sample_LRM\n"
   ]
  },
  {
   "cell_type": "code",
   "execution_count": null,
   "metadata": {},
   "outputs": [],
   "source": []
  }
 ],
 "metadata": {
  "kernelspec": {
   "display_name": ".venv",
   "language": "python",
   "name": "python3"
  },
  "language_info": {
   "codemirror_mode": {
    "name": "ipython",
    "version": 3
   },
   "file_extension": ".py",
   "mimetype": "text/x-python",
   "name": "python",
   "nbconvert_exporter": "python",
   "pygments_lexer": "ipython3",
   "version": "3.13.0"
  }
 },
 "nbformat": 4,
 "nbformat_minor": 2
}
